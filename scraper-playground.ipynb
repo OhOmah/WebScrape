{
 "cells": [
  {
   "cell_type": "code",
   "execution_count": 1,
   "metadata": {},
   "outputs": [],
   "source": [
    "from selenium import webdriver\n",
    "from selenium.webdriver.common.by import By\n",
    "from selenium.webdriver.support.wait import WebDriverWait\n",
    "from selenium.webdriver.common.keys import Keys\n",
    "from selenium.webdriver.common.action_chains import ActionChains\n",
    "\n",
    "import re\n",
    "import time\n",
    "from bs4 import BeautifulSoup"
   ]
  },
  {
   "cell_type": "code",
   "execution_count": 2,
   "metadata": {},
   "outputs": [],
   "source": [
    "ac = ActionChains"
   ]
  },
  {
   "cell_type": "code",
   "execution_count": 3,
   "metadata": {},
   "outputs": [],
   "source": [
    "password = open(\"data/password.txt\", \"r\")\n",
    "def access_login(password):\n",
    "    pass"
   ]
  },
  {
   "cell_type": "code",
   "execution_count": 8,
   "metadata": {},
   "outputs": [
    {
     "ename": "NoSuchElementException",
     "evalue": "Message: no such element: Unable to locate element: {\"method\":\"css selector\",\"selector\":\"[id=\"21966\"]\"}\n  (Session info: chrome=128.0.6613.119); For documentation on this error, please visit: https://www.selenium.dev/documentation/webdriver/troubleshooting/errors#no-such-element-exception\nStacktrace:\n#0 0x55b4b54d42da <unknown>\n#1 0x55b4b51a2200 <unknown>\n#2 0x55b4b51f1aa2 <unknown>\n#3 0x55b4b51f1d41 <unknown>\n#4 0x55b4b5237964 <unknown>\n#5 0x55b4b52168fd <unknown>\n#6 0x55b4b5234dfd <unknown>\n#7 0x55b4b5216673 <unknown>\n#8 0x55b4b51e4473 <unknown>\n#9 0x55b4b51e547e <unknown>\n#10 0x55b4b549b0db <unknown>\n#11 0x55b4b549f071 <unknown>\n#12 0x55b4b54879d5 <unknown>\n#13 0x55b4b549fbf2 <unknown>\n#14 0x55b4b546cb6f <unknown>\n#15 0x55b4b54c3248 <unknown>\n#16 0x55b4b54c3417 <unknown>\n#17 0x55b4b54d30cc <unknown>\n#18 0x7fb8fc694ac3 <unknown>\n",
     "output_type": "error",
     "traceback": [
      "\u001b[0;31m---------------------------------------------------------------------------\u001b[0m",
      "\u001b[0;31mNoSuchElementException\u001b[0m                    Traceback (most recent call last)",
      "\u001b[1;32m/home/omah/Documents/GitHub/Web Scraper/scraper-playground.ipynb Cell 4\u001b[0m line \u001b[0;36m1\n\u001b[1;32m     <a href='vscode-notebook-cell:/home/omah/Documents/GitHub/Web%20Scraper/scraper-playground.ipynb#W3sZmlsZQ%3D%3D?line=11'>12</a>\u001b[0m password_input\u001b[39m.\u001b[39msend_keys(\u001b[39m\"\u001b[39m\u001b[39m8RvDdCAfYjmBGm@\u001b[39m\u001b[39m\"\u001b[39m)\n\u001b[1;32m     <a href='vscode-notebook-cell:/home/omah/Documents/GitHub/Web%20Scraper/scraper-playground.ipynb#W3sZmlsZQ%3D%3D?line=13'>14</a>\u001b[0m \u001b[39m# Wait until date box pops up\u001b[39;00m\n\u001b[0;32m---> <a href='vscode-notebook-cell:/home/omah/Documents/GitHub/Web%20Scraper/scraper-playground.ipynb#W3sZmlsZQ%3D%3D?line=14'>15</a>\u001b[0m revealed \u001b[39m=\u001b[39m driver\u001b[39m.\u001b[39mfind_element(By\u001b[39m.\u001b[39mID, \u001b[39m\"\u001b[39m\u001b[39m21966\u001b[39m\u001b[39m\"\u001b[39m)\n\u001b[1;32m     <a href='vscode-notebook-cell:/home/omah/Documents/GitHub/Web%20Scraper/scraper-playground.ipynb#W3sZmlsZQ%3D%3D?line=16'>17</a>\u001b[0m wait \u001b[39m=\u001b[39m WebDriverWait(driver, timeout\u001b[39m=\u001b[39m\u001b[39m10\u001b[39m)\n\u001b[1;32m     <a href='vscode-notebook-cell:/home/omah/Documents/GitHub/Web%20Scraper/scraper-playground.ipynb#W3sZmlsZQ%3D%3D?line=17'>18</a>\u001b[0m wait\u001b[39m.\u001b[39muntil(\u001b[39mlambda\u001b[39;00m d: revealed\u001b[39m.\u001b[39mis_displayed())\n",
      "File \u001b[0;32m~/anaconda3/lib/python3.11/site-packages/selenium/webdriver/remote/webdriver.py:888\u001b[0m, in \u001b[0;36mWebDriver.find_element\u001b[0;34m(self, by, value)\u001b[0m\n\u001b[1;32m    885\u001b[0m         \u001b[39mraise\u001b[39;00m NoSuchElementException(\u001b[39mf\u001b[39m\u001b[39m\"\u001b[39m\u001b[39mCannot locate relative element with: \u001b[39m\u001b[39m{\u001b[39;00mby\u001b[39m.\u001b[39mroot\u001b[39m}\u001b[39;00m\u001b[39m\"\u001b[39m)\n\u001b[1;32m    886\u001b[0m     \u001b[39mreturn\u001b[39;00m elements[\u001b[39m0\u001b[39m]\n\u001b[0;32m--> 888\u001b[0m \u001b[39mreturn\u001b[39;00m \u001b[39mself\u001b[39m\u001b[39m.\u001b[39mexecute(Command\u001b[39m.\u001b[39mFIND_ELEMENT, {\u001b[39m\"\u001b[39m\u001b[39musing\u001b[39m\u001b[39m\"\u001b[39m: by, \u001b[39m\"\u001b[39m\u001b[39mvalue\u001b[39m\u001b[39m\"\u001b[39m: value})[\u001b[39m\"\u001b[39m\u001b[39mvalue\u001b[39m\u001b[39m\"\u001b[39m]\n",
      "File \u001b[0;32m~/anaconda3/lib/python3.11/site-packages/selenium/webdriver/remote/webdriver.py:429\u001b[0m, in \u001b[0;36mWebDriver.execute\u001b[0;34m(self, driver_command, params)\u001b[0m\n\u001b[1;32m    427\u001b[0m response \u001b[39m=\u001b[39m \u001b[39mself\u001b[39m\u001b[39m.\u001b[39mcommand_executor\u001b[39m.\u001b[39mexecute(driver_command, params)\n\u001b[1;32m    428\u001b[0m \u001b[39mif\u001b[39;00m response:\n\u001b[0;32m--> 429\u001b[0m     \u001b[39mself\u001b[39m\u001b[39m.\u001b[39merror_handler\u001b[39m.\u001b[39mcheck_response(response)\n\u001b[1;32m    430\u001b[0m     response[\u001b[39m\"\u001b[39m\u001b[39mvalue\u001b[39m\u001b[39m\"\u001b[39m] \u001b[39m=\u001b[39m \u001b[39mself\u001b[39m\u001b[39m.\u001b[39m_unwrap_value(response\u001b[39m.\u001b[39mget(\u001b[39m\"\u001b[39m\u001b[39mvalue\u001b[39m\u001b[39m\"\u001b[39m, \u001b[39mNone\u001b[39;00m))\n\u001b[1;32m    431\u001b[0m     \u001b[39mreturn\u001b[39;00m response\n",
      "File \u001b[0;32m~/anaconda3/lib/python3.11/site-packages/selenium/webdriver/remote/errorhandler.py:232\u001b[0m, in \u001b[0;36mErrorHandler.check_response\u001b[0;34m(self, response)\u001b[0m\n\u001b[1;32m    230\u001b[0m         alert_text \u001b[39m=\u001b[39m value[\u001b[39m\"\u001b[39m\u001b[39malert\u001b[39m\u001b[39m\"\u001b[39m]\u001b[39m.\u001b[39mget(\u001b[39m\"\u001b[39m\u001b[39mtext\u001b[39m\u001b[39m\"\u001b[39m)\n\u001b[1;32m    231\u001b[0m     \u001b[39mraise\u001b[39;00m exception_class(message, screen, stacktrace, alert_text)  \u001b[39m# type: ignore[call-arg]  # mypy is not smart enough here\u001b[39;00m\n\u001b[0;32m--> 232\u001b[0m \u001b[39mraise\u001b[39;00m exception_class(message, screen, stacktrace)\n",
      "\u001b[0;31mNoSuchElementException\u001b[0m: Message: no such element: Unable to locate element: {\"method\":\"css selector\",\"selector\":\"[id=\"21966\"]\"}\n  (Session info: chrome=128.0.6613.119); For documentation on this error, please visit: https://www.selenium.dev/documentation/webdriver/troubleshooting/errors#no-such-element-exception\nStacktrace:\n#0 0x55b4b54d42da <unknown>\n#1 0x55b4b51a2200 <unknown>\n#2 0x55b4b51f1aa2 <unknown>\n#3 0x55b4b51f1d41 <unknown>\n#4 0x55b4b5237964 <unknown>\n#5 0x55b4b52168fd <unknown>\n#6 0x55b4b5234dfd <unknown>\n#7 0x55b4b5216673 <unknown>\n#8 0x55b4b51e4473 <unknown>\n#9 0x55b4b51e547e <unknown>\n#10 0x55b4b549b0db <unknown>\n#11 0x55b4b549f071 <unknown>\n#12 0x55b4b54879d5 <unknown>\n#13 0x55b4b549fbf2 <unknown>\n#14 0x55b4b546cb6f <unknown>\n#15 0x55b4b54c3248 <unknown>\n#16 0x55b4b54c3417 <unknown>\n#17 0x55b4b54d30cc <unknown>\n#18 0x7fb8fc694ac3 <unknown>\n"
     ]
    }
   ],
   "source": [
    "import json\n",
    "with open('data/password.txt') as f:\n",
    "        docs = f.read()\n",
    "doc = json.loads(docs)\n",
    "driver = webdriver.Chrome()\n",
    "# Log into website\n",
    "driver.get(\"https://ventura.ecourt.com/public-portal/?q=node/390\")\n",
    "username_input = driver.find_element(By.ID, \"edit-name\")\n",
    "password_input = driver.find_element(By.ID, \"edit-pass\")\n",
    "\n",
    "username_input.send_keys(\"OhOmah\")\n",
    "password_input.send_keys(password)\n",
    "\n",
    "# Wait until date box pops up\n",
    "revealed = driver.find_element(By.ID, \"21966\")\n",
    "\n",
    "wait = WebDriverWait(driver, timeout=10)\n",
    "wait.until(lambda d: revealed.is_displayed())\n",
    "\n",
    "# Query date\n",
    "revealed.send_keys(\"02042025\")\n",
    "submit = driver.find_element(By.ID, 'edit-submit')\n",
    "submit.click()\n",
    "\n",
    "time.sleep(5)\n",
    "# Create a loop to get a count of all clickable links in a webpage: \n",
    "# 1. Get the original list of elements, get the count of each element.\n",
    "links = driver.find_elements(By.XPATH, \"//*[contains(@href, '?q=node/391/')]\") \n",
    "\n",
    "# 2. Then loop on the length of the list\n",
    "for i in range(len(links)):\n",
    "    # 3. Click and get information of the first element in list, store in dataframe then go back\n",
    "    link = links[0]\n",
    "    link.click()\n",
    "    parties = driver.find_element(By.XPATH, '//*[contains(text(), \"PARTIES\")]')\n",
    "    parties.click()\n",
    "    table = driver.find_elements(By.XPATH, \"//table[contains(@id, 'tree_table')]//td\")\n",
    "    time.sleep(5)\n",
    "    driver.back()\n",
    "    # 4. Get new list of elements, this time subtract first x amount of objects\n",
    "    links = driver.find_elements(By.XPATH, \"//*[contains(@href, '?q=node/391/')]\")\n",
    "    time.sleep(5)\n",
    "    links = links[i:]\n",
    "    # 5. continue loop. \n",
    "\n",
    "# Go to the next page (if Available)\n",
    "# Find the arrow, and click until it's there no longer\n",
    "#arrow = driver.find_elements(By.XPATH, '//*[@id=\"edit-tablepager-bottom\"]/div[1]/table/tbody/tr/td[2]/ul/li/a/span')\n",
    "#driver.quit()\n",
    "\n"
   ]
  },
  {
   "cell_type": "code",
   "execution_count": 7,
   "metadata": {},
   "outputs": [
    {
     "name": "stdout",
     "output_type": "stream",
     "text": [
      "you're a great guy\n",
      "you're a great guy\n",
      "you're a great guy\n",
      "you're a great guy\n",
      "you're a great guy\n",
      "you're a great guy\n",
      "you're a great guy\n",
      "you're a great guy\n",
      "you're a great guy\n",
      "you're a great guy\n",
      "you're a great guy\n",
      "you're a great guy\n",
      "you're a great guy\n",
      "you're a great guy\n",
      "you're a great guy\n",
      "you're a great guy\n",
      "you're a great guy\n",
      "you're a great guy\n",
      "you're a great guy\n",
      "you're a great guy\n",
      "you're a great guy\n",
      "you're a great guy\n",
      "you're a great guy\n",
      "you're a great guy\n",
      "you're a great guy\n",
      "you're a great guy\n",
      "you're a great guy\n",
      "you're a great guy\n",
      "you're a great guy\n",
      "you're a great guy\n",
      "you're a great guy\n",
      "you're a great guy\n",
      "you're a great guy\n",
      "you're a great guy\n",
      "you're a great guy\n",
      "you're a great guy\n",
      "you're a great guy\n",
      "you're a great guy\n",
      "you're a great guy\n",
      "you're a great guy\n",
      "you're a great guy\n",
      "you're a great guy\n",
      "you're a great guy\n",
      "you're a great guy\n",
      "you're a great guy\n",
      "you're a great guy\n",
      "you're a great guy\n",
      "you're a great guy\n",
      "you're a great guy\n",
      "you're a great guy\n",
      "you're a great guy\n",
      "you're a great guy\n",
      "you're a great guy\n",
      "you're a great guy\n",
      "you're a great guy\n",
      "you're a great guy\n",
      "you're a great guy\n",
      "you're a great guy\n",
      "you're a great guy\n",
      "you're a great guy\n",
      "you're a great guy\n",
      "you're a great guy\n",
      "you're a great guy\n",
      "you're a great guy\n",
      "you're a great guy\n",
      "you're a great guy\n",
      "you're a great guy\n",
      "you're a great guy\n",
      "you're a great guy\n",
      "you're a great guy\n",
      "you're a great guy\n",
      "you're a great guy\n"
     ]
    }
   ],
   "source": [
    "table\n",
    "for data in  table: \n",
    "    try:\n",
    "        print(data.text)\n",
    "    except:\n",
    "        print(\"you're a great guy\")"
   ]
  },
  {
   "attachments": {},
   "cell_type": "markdown",
   "metadata": {},
   "source": []
  },
  {
   "cell_type": "code",
   "execution_count": null,
   "metadata": {},
   "outputs": [
    {
     "data": {
      "text/plain": [
       "<selenium.webdriver.remote.webelement.WebElement (session=\"0c1df526874b3cd3d6df702d455f4a02\", element=\"f.E9161ABC987411AF7A8F0B718715B33F.d.DC69072246DA5A500378619F3536940E.e.3\")>"
      ]
     },
     "execution_count": 108,
     "metadata": {},
     "output_type": "execute_result"
    }
   ],
   "source": [
    "username_input"
   ]
  },
  {
   "cell_type": "code",
   "execution_count": null,
   "metadata": {},
   "outputs": [
    {
     "data": {
      "text/plain": [
       "'The Superior Court of California - County of Ventura - Case Inquiry'"
      ]
     },
     "execution_count": 13,
     "metadata": {},
     "output_type": "execute_result"
    }
   ],
   "source": [
    "title"
   ]
  },
  {
   "cell_type": "code",
   "execution_count": 18,
   "metadata": {},
   "outputs": [],
   "source": [
    "import pandas as pd \n",
    "start_date = '01/02/2024'\n",
    "end_date = '06/01/2024'\n",
    "date_range = pd.date_range(start=start_date, end=end_date)"
   ]
  },
  {
   "cell_type": "code",
   "execution_count": 19,
   "metadata": {},
   "outputs": [
    {
     "name": "stdout",
     "output_type": "stream",
     "text": [
      "['01022024', '01032024', '01042024', '01052024', '01062024', '01072024', '01082024', '01092024', '01102024', '01112024', '01122024', '01132024', '01142024', '01152024', '01162024', '01172024', '01182024', '01192024', '01202024', '01212024', '01222024', '01232024', '01242024', '01252024', '01262024', '01272024', '01282024', '01292024', '01302024', '01312024', '02012024', '02022024', '02032024', '02042024', '02052024', '02062024', '02072024', '02082024', '02092024', '02102024', '02112024', '02122024', '02132024', '02142024', '02152024', '02162024', '02172024', '02182024', '02192024', '02202024', '02212024', '02222024', '02232024', '02242024', '02252024', '02262024', '02272024', '02282024', '02292024', '03012024', '03022024', '03032024', '03042024', '03052024', '03062024', '03072024', '03082024', '03092024', '03102024', '03112024', '03122024', '03132024', '03142024', '03152024', '03162024', '03172024', '03182024', '03192024', '03202024', '03212024', '03222024', '03232024', '03242024', '03252024', '03262024', '03272024', '03282024', '03292024', '03302024', '03312024', '04012024', '04022024', '04032024', '04042024', '04052024', '04062024', '04072024', '04082024', '04092024', '04102024', '04112024', '04122024', '04132024', '04142024', '04152024', '04162024', '04172024', '04182024', '04192024', '04202024', '04212024', '04222024', '04232024', '04242024', '04252024', '04262024', '04272024', '04282024', '04292024', '04302024', '05012024', '05022024', '05032024', '05042024', '05052024', '05062024', '05072024', '05082024', '05092024', '05102024', '05112024', '05122024', '05132024', '05142024', '05152024', '05162024', '05172024', '05182024', '05192024', '05202024', '05212024', '05222024', '05232024', '05242024', '05252024', '05262024', '05272024', '05282024', '05292024', '05302024', '05312024', '06012024']\n"
     ]
    }
   ],
   "source": [
    "from datetime import datetime\n",
    "date_range = date_range.astype(str).to_list()\n",
    "formatted_dates = [datetime.strptime(date, \"%Y-%m-%d\").strftime(\"%m%d%Y\") for date in date_range]\n",
    "\n",
    "print(formatted_dates)"
   ]
  },
  {
   "cell_type": "code",
   "execution_count": 20,
   "metadata": {},
   "outputs": [
    {
     "name": "stdout",
     "output_type": "stream",
     "text": [
      "01022024\n",
      "01032024\n",
      "01042024\n",
      "01052024\n",
      "01062024\n",
      "01072024\n",
      "01082024\n",
      "01092024\n",
      "01102024\n",
      "01112024\n",
      "01122024\n",
      "01132024\n",
      "01142024\n",
      "01152024\n",
      "01162024\n",
      "01172024\n",
      "01182024\n",
      "01192024\n",
      "01202024\n",
      "01212024\n",
      "01222024\n",
      "01232024\n",
      "01242024\n",
      "01252024\n",
      "01262024\n",
      "01272024\n",
      "01282024\n",
      "01292024\n",
      "01302024\n",
      "01312024\n",
      "02012024\n",
      "02022024\n",
      "02032024\n",
      "02042024\n",
      "02052024\n",
      "02062024\n",
      "02072024\n",
      "02082024\n",
      "02092024\n",
      "02102024\n",
      "02112024\n",
      "02122024\n",
      "02132024\n",
      "02142024\n",
      "02152024\n",
      "02162024\n",
      "02172024\n",
      "02182024\n",
      "02192024\n",
      "02202024\n",
      "02212024\n",
      "02222024\n",
      "02232024\n",
      "02242024\n",
      "02252024\n",
      "02262024\n",
      "02272024\n",
      "02282024\n",
      "02292024\n",
      "03012024\n",
      "03022024\n",
      "03032024\n",
      "03042024\n",
      "03052024\n",
      "03062024\n",
      "03072024\n",
      "03082024\n",
      "03092024\n",
      "03102024\n",
      "03112024\n",
      "03122024\n",
      "03132024\n",
      "03142024\n",
      "03152024\n",
      "03162024\n",
      "03172024\n",
      "03182024\n",
      "03192024\n",
      "03202024\n",
      "03212024\n",
      "03222024\n",
      "03232024\n",
      "03242024\n",
      "03252024\n",
      "03262024\n",
      "03272024\n",
      "03282024\n",
      "03292024\n",
      "03302024\n",
      "03312024\n",
      "04012024\n",
      "04022024\n",
      "04032024\n",
      "04042024\n",
      "04052024\n",
      "04062024\n",
      "04072024\n",
      "04082024\n",
      "04092024\n",
      "04102024\n",
      "04112024\n",
      "04122024\n",
      "04132024\n",
      "04142024\n",
      "04152024\n",
      "04162024\n",
      "04172024\n",
      "04182024\n",
      "04192024\n",
      "04202024\n",
      "04212024\n",
      "04222024\n",
      "04232024\n",
      "04242024\n",
      "04252024\n",
      "04262024\n",
      "04272024\n",
      "04282024\n",
      "04292024\n",
      "04302024\n",
      "05012024\n",
      "05022024\n",
      "05032024\n",
      "05042024\n",
      "05052024\n",
      "05062024\n",
      "05072024\n",
      "05082024\n",
      "05092024\n",
      "05102024\n",
      "05112024\n",
      "05122024\n",
      "05132024\n",
      "05142024\n",
      "05152024\n",
      "05162024\n",
      "05172024\n",
      "05182024\n",
      "05192024\n",
      "05202024\n",
      "05212024\n",
      "05222024\n",
      "05232024\n",
      "05242024\n",
      "05252024\n",
      "05262024\n",
      "05272024\n",
      "05282024\n",
      "05292024\n",
      "05302024\n",
      "05312024\n",
      "06012024\n"
     ]
    }
   ],
   "source": [
    "for date in formatted_dates:\n",
    "    print(date)"
   ]
  },
  {
   "cell_type": "code",
   "execution_count": null,
   "metadata": {},
   "outputs": [],
   "source": []
  }
 ],
 "metadata": {
  "kernelspec": {
   "display_name": "base",
   "language": "python",
   "name": "python3"
  },
  "language_info": {
   "codemirror_mode": {
    "name": "ipython",
    "version": 3
   },
   "file_extension": ".py",
   "mimetype": "text/x-python",
   "name": "python",
   "nbconvert_exporter": "python",
   "pygments_lexer": "ipython3",
   "version": "3.11.5"
  }
 },
 "nbformat": 4,
 "nbformat_minor": 2
}
